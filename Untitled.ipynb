{
 "cells": [
  {
   "cell_type": "markdown",
   "id": "3bfab826",
   "metadata": {},
   "source": [
    "## Programming Assignment 2, Justin Odle, Fall 22"
   ]
  },
  {
   "cell_type": "code",
   "execution_count": 4,
   "id": "2ff9cc0f",
   "metadata": {},
   "outputs": [
    {
     "name": "stdout",
     "output_type": "stream",
     "text": [
      "Enter a whole Number:14\n"
     ]
    }
   ],
   "source": [
    "number=int(input(\"Enter a whole Number:\" ))"
   ]
  },
  {
   "cell_type": "code",
   "execution_count": 5,
   "id": "3ffc3d1e",
   "metadata": {},
   "outputs": [
    {
     "name": "stdout",
     "output_type": "stream",
     "text": [
      "Enter a floating point number: 26.256\n"
     ]
    }
   ],
   "source": [
    "number1=float(input(\"Enter a floating point number: \"))"
   ]
  },
  {
   "cell_type": "code",
   "execution_count": 14,
   "id": "9b82ebbf",
   "metadata": {},
   "outputs": [
    {
     "name": "stdout",
     "output_type": "stream",
     "text": [
      "40.256\n"
     ]
    }
   ],
   "source": [
    "print(14+26.256)"
   ]
  },
  {
   "cell_type": "code",
   "execution_count": 15,
   "id": "5547ac78",
   "metadata": {},
   "outputs": [
    {
     "name": "stdout",
     "output_type": "stream",
     "text": [
      "-12.256\n"
     ]
    }
   ],
   "source": [
    "print(14-26.256)"
   ]
  },
  {
   "cell_type": "code",
   "execution_count": 9,
   "id": "67b247d9",
   "metadata": {},
   "outputs": [
    {
     "name": "stdout",
     "output_type": "stream",
     "text": [
      "367.584\n"
     ]
    }
   ],
   "source": [
    "print(14*26.256)"
   ]
  },
  {
   "cell_type": "code",
   "execution_count": 10,
   "id": "8d8b9ab1",
   "metadata": {},
   "outputs": [
    {
     "name": "stdout",
     "output_type": "stream",
     "text": [
      "0.5332114564290067\n"
     ]
    }
   ],
   "source": [
    "print(14/26.256)"
   ]
  }
 ],
 "metadata": {
  "kernelspec": {
   "display_name": "Python 3 (ipykernel)",
   "language": "python",
   "name": "python3"
  },
  "language_info": {
   "codemirror_mode": {
    "name": "ipython",
    "version": 3
   },
   "file_extension": ".py",
   "mimetype": "text/x-python",
   "name": "python",
   "nbconvert_exporter": "python",
   "pygments_lexer": "ipython3",
   "version": "3.9.13"
  }
 },
 "nbformat": 4,
 "nbformat_minor": 5
}
